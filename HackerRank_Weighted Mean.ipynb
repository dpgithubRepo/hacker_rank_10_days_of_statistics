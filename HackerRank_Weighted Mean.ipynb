{
 "cells": [
  {
   "cell_type": "markdown",
   "metadata": {},
   "source": [
    "# Day 0: Weighted Mean"
   ]
  },
  {
   "cell_type": "code",
   "execution_count": 4,
   "metadata": {},
   "outputs": [
    {
     "name": "stdout",
     "output_type": "stream",
     "text": [
      "5\n",
      "10 11 12 13 14 15\n",
      "1 2 3 4 5\n",
      "12.7\n"
     ]
    }
   ],
   "source": [
    "# Enter your code here. Read input from STDIN. Print output to STDOUT\n",
    "n = int(input().strip())\n",
    "records = list(map(int, input().split(' ')))\n",
    "weights = list(map(int, input().split(' ')))\n",
    "\n",
    "\n",
    "\n",
    "numerator = 0;\n",
    "weightsSum=0\n",
    "for i in range(0,n):\n",
    "    numerator = numerator +(records[i]*weights[i])\n",
    "    weightsSum = weightsSum+weights[i]\n",
    "\n",
    "weightedMean = numerator/weightsSum\n",
    "\n",
    "print(round(weightedMean,1))"
   ]
  },
  {
   "cell_type": "code",
   "execution_count": null,
   "metadata": {},
   "outputs": [],
   "source": []
  }
 ],
 "metadata": {
  "kernelspec": {
   "display_name": "Python 3",
   "language": "python",
   "name": "python3"
  },
  "language_info": {
   "codemirror_mode": {
    "name": "ipython",
    "version": 3
   },
   "file_extension": ".py",
   "mimetype": "text/x-python",
   "name": "python",
   "nbconvert_exporter": "python",
   "pygments_lexer": "ipython3",
   "version": "3.7.3"
  }
 },
 "nbformat": 4,
 "nbformat_minor": 2
}
