{
 "cells": [
  {
   "cell_type": "markdown",
   "metadata": {},
   "source": [
    "# Day 0: Mean, Median, and Mode"
   ]
  },
  {
   "cell_type": "code",
   "execution_count": null,
   "metadata": {},
   "outputs": [],
   "source": [
    "# Enter your code here. Read input from STDIN. Print output to STDOUT\n",
    "\n",
    "\n",
    "n = int(input())\n",
    "x = input()\n",
    "sum = 0\n",
    "\n",
    "x = x.split(' ')\n",
    "x_int=[]\n",
    "x_dict = {}\n",
    "\n",
    "for i in x:   \n",
    "    x_int.append(int(i))\n",
    "    if(x_dict.get(int(i)) == None):\n",
    "        x_dict.update({int(i):1})\n",
    "    else:\n",
    "        count = int(x_dict.get(int(i)))\n",
    "        x_dict.update({int(i):count+1})\n",
    "\n",
    "x_int.sort()\n",
    "\n",
    "\n",
    "### MEAN CALCULATION ###\n",
    "\n",
    "for i in x_int:\n",
    "    sum = sum + i\n",
    "\n",
    "mean = sum/n\n",
    "\n",
    "\n",
    "\n",
    "#### MEDIAN CALCULATION #####\n",
    "center = n/2\n",
    "center = int(center)\n",
    "#print(center)\n",
    "if(n%2 == 0):\n",
    "    median = (x_int[center]+x_int[center-1])/2\n",
    "else :\n",
    "    median  = x_int[center]\n",
    "\n",
    "\n",
    "### MODE CALCULATION ####\n",
    "mode_count = 0\n",
    "mode = 999999999\n",
    "for k in x_dict.keys():\n",
    "    if(x_dict[k]>mode_count):\n",
    "        mode_count=x_dict[k]\n",
    "        mode = k\n",
    "    elif(x_dict[k] == mode_count):\n",
    "        if(k<mode):\n",
    "            mode=k\n",
    "\n",
    "       \n",
    "print(round(mean,1))\n",
    "print(round(median,1))    \n",
    "print(round(mode,1))\n"
   ]
  }
 ],
 "metadata": {
  "kernelspec": {
   "display_name": "Python 3",
   "language": "python",
   "name": "python3"
  },
  "language_info": {
   "codemirror_mode": {
    "name": "ipython",
    "version": 3
   },
   "file_extension": ".py",
   "mimetype": "text/x-python",
   "name": "python",
   "nbconvert_exporter": "python",
   "pygments_lexer": "ipython3",
   "version": "3.7.3"
  }
 },
 "nbformat": 4,
 "nbformat_minor": 2
}
